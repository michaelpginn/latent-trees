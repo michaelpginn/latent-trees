{
 "cells": [
  {
   "cell_type": "code",
   "execution_count": 48,
   "metadata": {
    "collapsed": true,
    "ExecuteTime": {
     "end_time": "2023-11-26T00:16:12.083548Z",
     "start_time": "2023-11-26T00:15:15.535708Z"
    }
   },
   "outputs": [
    {
     "name": "stderr",
     "output_type": "stream",
     "text": [
      "loading file https://huggingface.co/bert-base-uncased/resolve/main/vocab.txt from cache at /Users/milesper/.cache/huggingface/transformers/45c3f7a79a80e1cf0a489e5c62b43f173c15db47864303a55d623bb3c96f72a5.d789d64ebfe299b0e416afc4a169632f903f693095b4629a7ea271d5a0cf2c99\n",
      "loading file https://huggingface.co/bert-base-uncased/resolve/main/added_tokens.json from cache at None\n",
      "loading file https://huggingface.co/bert-base-uncased/resolve/main/special_tokens_map.json from cache at None\n",
      "loading file https://huggingface.co/bert-base-uncased/resolve/main/tokenizer_config.json from cache at /Users/milesper/.cache/huggingface/transformers/c1d7f0a763fb63861cc08553866f1fc3e5a6f4f07621be277452d26d71303b7e.20430bd8e10ef77a7d2977accefe796051e01bc2fc4aa146bc862997a1a15e79\n",
      "loading configuration file https://huggingface.co/bert-base-uncased/resolve/main/config.json from cache at /Users/milesper/.cache/huggingface/transformers/3c61d016573b14f7f008c02c4e51a366c67ab274726fe2910691e2a761acf43e.37395cee442ab11005bcd270f3c34464dc1704b715b5d7d52b1a461abe3b9e4e\n",
      "Model config BertConfig {\n",
      "  \"_name_or_path\": \"bert-base-uncased\",\n",
      "  \"architectures\": [\n",
      "    \"BertForMaskedLM\"\n",
      "  ],\n",
      "  \"attention_probs_dropout_prob\": 0.1,\n",
      "  \"classifier_dropout\": null,\n",
      "  \"gradient_checkpointing\": false,\n",
      "  \"hidden_act\": \"gelu\",\n",
      "  \"hidden_dropout_prob\": 0.1,\n",
      "  \"hidden_size\": 768,\n",
      "  \"initializer_range\": 0.02,\n",
      "  \"intermediate_size\": 3072,\n",
      "  \"layer_norm_eps\": 1e-12,\n",
      "  \"max_position_embeddings\": 512,\n",
      "  \"model_type\": \"bert\",\n",
      "  \"num_attention_heads\": 12,\n",
      "  \"num_hidden_layers\": 12,\n",
      "  \"pad_token_id\": 0,\n",
      "  \"position_embedding_type\": \"absolute\",\n",
      "  \"transformers_version\": \"4.21.3\",\n",
      "  \"type_vocab_size\": 2,\n",
      "  \"use_cache\": true,\n",
      "  \"vocab_size\": 30522\n",
      "}\n",
      "\n"
     ]
    },
    {
     "data": {
      "text/plain": "Map:   0%|          | 0/2800 [00:00<?, ? examples/s]",
      "application/vnd.jupyter.widget-view+json": {
       "version_major": 2,
       "version_minor": 0,
       "model_id": "57ea1179f6f34fa6b0f371f050db819c"
      }
     },
     "metadata": {},
     "output_type": "display_data"
    },
    {
     "data": {
      "text/plain": "Map:   0%|          | 0/1200 [00:00<?, ? examples/s]",
      "application/vnd.jupyter.widget-view+json": {
       "version_major": 2,
       "version_minor": 0,
       "model_id": "7f90b127c94b44bdb380c88f2a12d97c"
      }
     },
     "metadata": {},
     "output_type": "display_data"
    },
    {
     "name": "stderr",
     "output_type": "stream",
     "text": [
      "loading configuration file https://huggingface.co/bert-base-uncased/resolve/main/config.json from cache at /Users/milesper/.cache/huggingface/transformers/3c61d016573b14f7f008c02c4e51a366c67ab274726fe2910691e2a761acf43e.37395cee442ab11005bcd270f3c34464dc1704b715b5d7d52b1a461abe3b9e4e\n",
      "Model config BertConfig {\n",
      "  \"architectures\": [\n",
      "    \"BertForMaskedLM\"\n",
      "  ],\n",
      "  \"attention_probs_dropout_prob\": 0.1,\n",
      "  \"classifier_dropout\": null,\n",
      "  \"gradient_checkpointing\": false,\n",
      "  \"hidden_act\": \"gelu\",\n",
      "  \"hidden_dropout_prob\": 0.1,\n",
      "  \"hidden_size\": 768,\n",
      "  \"id2label\": {\n",
      "    \"0\": \"VIOLATION\",\n",
      "    \"1\": \"GRAMMATICAL\"\n",
      "  },\n",
      "  \"initializer_range\": 0.02,\n",
      "  \"intermediate_size\": 3072,\n",
      "  \"label2id\": {\n",
      "    \"GRAMMATICAL\": 1,\n",
      "    \"VIOLATION\": 0\n",
      "  },\n",
      "  \"layer_norm_eps\": 1e-12,\n",
      "  \"max_position_embeddings\": 512,\n",
      "  \"model_type\": \"bert\",\n",
      "  \"num_attention_heads\": 12,\n",
      "  \"num_hidden_layers\": 12,\n",
      "  \"pad_token_id\": 0,\n",
      "  \"position_embedding_type\": \"absolute\",\n",
      "  \"transformers_version\": \"4.21.3\",\n",
      "  \"type_vocab_size\": 2,\n",
      "  \"use_cache\": true,\n",
      "  \"vocab_size\": 30522\n",
      "}\n",
      "\n",
      "PyTorch: setting up devices\n",
      "The default value for the training argument `--report_to` will change in v5 (from all installed integrations to none). In v5, you will need to use `--report_to all` to get the same behavior as now. You should start updating your code and make this info disappear :-).\n",
      "The following columns in the training set don't have a corresponding argument in `BertForSequenceClassification.forward` and have been ignored: text. If text are not expected by `BertForSequenceClassification.forward`,  you can safely ignore this message.\n",
      "***** Running training *****\n",
      "  Num examples = 10\n",
      "  Num Epochs = 10\n",
      "  Instantaneous batch size per device = 1\n",
      "  Total train batch size (w. parallel, distributed & accumulation) = 1\n",
      "  Gradient Accumulation steps = 1\n",
      "  Total optimization steps = 100\n",
      "Automatic Weights & Biases logging enabled, to disable set os.environ[\"WANDB_DISABLED\"] = \"true\"\n"
     ]
    },
    {
     "data": {
      "text/plain": "<IPython.core.display.HTML object>",
      "text/html": "\n    <div>\n      \n      <progress value='2' max='100' style='width:300px; height:20px; vertical-align: middle;'></progress>\n      [  2/100 : < :, Epoch 0.10/10]\n    </div>\n    <table border=\"1\" class=\"dataframe\">\n  <thead>\n <tr style=\"text-align: left;\">\n      <th>Epoch</th>\n      <th>Training Loss</th>\n      <th>Validation Loss</th>\n    </tr>\n  </thead>\n  <tbody>\n  </tbody>\n</table><p>"
     },
     "metadata": {},
     "output_type": "display_data"
    },
    {
     "name": "stderr",
     "output_type": "stream",
     "text": [
      "The following columns in the evaluation set don't have a corresponding argument in `BertForSequenceClassification.forward` and have been ignored: text. If text are not expected by `BertForSequenceClassification.forward`,  you can safely ignore this message.\n",
      "***** Running Evaluation *****\n",
      "  Num examples = 10\n",
      "  Batch size = 1\n"
     ]
    },
    {
     "name": "stdout",
     "output_type": "stream",
     "text": [
      "[[-0.46431568 -0.09398253]\n",
      " [-0.38338035 -0.11335935]\n",
      " [-0.5430481   0.07136033]\n",
      " [-0.5524909   0.07485996]\n",
      " [-0.5505021   0.08642656]\n",
      " [-0.51906747 -0.02079204]\n",
      " [-0.42728794 -0.1279895 ]\n",
      " [-0.3785798  -0.12420638]\n",
      " [-0.40356916 -0.13772671]\n",
      " [-0.4894873  -0.02433187]]\n",
      "PREDS [1 1 1 1 1 1 1 1 1 1]\n",
      "LABELS [0 0 1 1 1 1 1 0 0 0]\n"
     ]
    },
    {
     "name": "stderr",
     "output_type": "stream",
     "text": [
      "Saving model checkpoint to ../training-checkpoints/checkpoint-10\n",
      "Configuration saved in ../training-checkpoints/checkpoint-10/config.json\n",
      "Model weights saved in ../training-checkpoints/checkpoint-10/pytorch_model.bin\n",
      "tokenizer config file saved in ../training-checkpoints/checkpoint-10/tokenizer_config.json\n",
      "Special tokens file saved in ../training-checkpoints/checkpoint-10/special_tokens_map.json\n",
      "Deleting older checkpoint [../training-checkpoints/checkpoint-80] due to args.save_total_limit\n",
      "The following columns in the evaluation set don't have a corresponding argument in `BertForSequenceClassification.forward` and have been ignored: text. If text are not expected by `BertForSequenceClassification.forward`,  you can safely ignore this message.\n",
      "***** Running Evaluation *****\n",
      "  Num examples = 10\n",
      "  Batch size = 1\n"
     ]
    },
    {
     "name": "stdout",
     "output_type": "stream",
     "text": [
      "[[-1.2974775   0.9850861 ]\n",
      " [-1.2307818   0.95143634]\n",
      " [-1.3605208   1.1232607 ]\n",
      " [-1.3670791   1.1233885 ]\n",
      " [-1.3608583   1.1224539 ]\n",
      " [-1.3606353   1.0652703 ]\n",
      " [-1.2911935   0.9917485 ]\n",
      " [-1.2272487   0.93031317]\n",
      " [-1.2442553   0.92800194]\n",
      " [-1.3267769   1.0438648 ]]\n",
      "PREDS [1 1 1 1 1 1 1 1 1 1]\n",
      "LABELS [0 0 1 1 1 1 1 0 0 0]\n"
     ]
    },
    {
     "name": "stderr",
     "output_type": "stream",
     "text": [
      "Saving model checkpoint to ../training-checkpoints/checkpoint-20\n",
      "Configuration saved in ../training-checkpoints/checkpoint-20/config.json\n",
      "Model weights saved in ../training-checkpoints/checkpoint-20/pytorch_model.bin\n",
      "tokenizer config file saved in ../training-checkpoints/checkpoint-20/tokenizer_config.json\n",
      "Special tokens file saved in ../training-checkpoints/checkpoint-20/special_tokens_map.json\n",
      "Deleting older checkpoint [../training-checkpoints/checkpoint-90] due to args.save_total_limit\n",
      "The following columns in the evaluation set don't have a corresponding argument in `BertForSequenceClassification.forward` and have been ignored: text. If text are not expected by `BertForSequenceClassification.forward`,  you can safely ignore this message.\n",
      "***** Running Evaluation *****\n",
      "  Num examples = 10\n",
      "  Batch size = 1\n"
     ]
    },
    {
     "name": "stdout",
     "output_type": "stream",
     "text": [
      "[[-0.73431355  0.4241377 ]\n",
      " [-0.6430441   0.37142813]\n",
      " [-0.84299666  0.5973026 ]\n",
      " [-0.8539642   0.6018497 ]\n",
      " [-0.8564709   0.6084635 ]\n",
      " [-0.8355526   0.5362897 ]\n",
      " [-0.7349311   0.4393542 ]\n",
      " [-0.6439443   0.36146802]\n",
      " [-0.6631613   0.35393503]\n",
      " [-0.7884347   0.5014813 ]]\n",
      "PREDS [1 1 1 1 1 1 1 1 1 1]\n",
      "LABELS [0 0 1 1 1 1 1 0 0 0]\n"
     ]
    },
    {
     "name": "stderr",
     "output_type": "stream",
     "text": [
      "Saving model checkpoint to ../training-checkpoints/checkpoint-30\n",
      "Configuration saved in ../training-checkpoints/checkpoint-30/config.json\n",
      "Model weights saved in ../training-checkpoints/checkpoint-30/pytorch_model.bin\n",
      "tokenizer config file saved in ../training-checkpoints/checkpoint-30/tokenizer_config.json\n",
      "Special tokens file saved in ../training-checkpoints/checkpoint-30/special_tokens_map.json\n",
      "Deleting older checkpoint [../training-checkpoints/checkpoint-100] due to args.save_total_limit\n",
      "The following columns in the evaluation set don't have a corresponding argument in `BertForSequenceClassification.forward` and have been ignored: text. If text are not expected by `BertForSequenceClassification.forward`,  you can safely ignore this message.\n",
      "***** Running Evaluation *****\n",
      "  Num examples = 10\n",
      "  Batch size = 1\n"
     ]
    },
    {
     "name": "stdout",
     "output_type": "stream",
     "text": [
      "[[-0.89702904  0.56345814]\n",
      " [-0.7756403   0.4772451 ]\n",
      " [-1.0818349   0.8322886 ]\n",
      " [-1.0936857   0.8375097 ]\n",
      " [-1.0909638   0.8360023 ]\n",
      " [-1.0646697   0.7553661 ]\n",
      " [-0.9113325   0.59612584]\n",
      " [-0.7685956   0.4627576 ]\n",
      " [-0.80454296  0.46504027]\n",
      " [-0.99561816  0.6947219 ]]\n",
      "PREDS [1 1 1 1 1 1 1 1 1 1]\n",
      "LABELS [0 0 1 1 1 1 1 0 0 0]\n"
     ]
    },
    {
     "name": "stderr",
     "output_type": "stream",
     "text": [
      "Saving model checkpoint to ../training-checkpoints/checkpoint-40\n",
      "Configuration saved in ../training-checkpoints/checkpoint-40/config.json\n",
      "Model weights saved in ../training-checkpoints/checkpoint-40/pytorch_model.bin\n",
      "tokenizer config file saved in ../training-checkpoints/checkpoint-40/tokenizer_config.json\n",
      "Special tokens file saved in ../training-checkpoints/checkpoint-40/special_tokens_map.json\n",
      "Deleting older checkpoint [../training-checkpoints/checkpoint-10] due to args.save_total_limit\n",
      "The following columns in the evaluation set don't have a corresponding argument in `BertForSequenceClassification.forward` and have been ignored: text. If text are not expected by `BertForSequenceClassification.forward`,  you can safely ignore this message.\n",
      "***** Running Evaluation *****\n",
      "  Num examples = 10\n",
      "  Batch size = 1\n"
     ]
    },
    {
     "name": "stdout",
     "output_type": "stream",
     "text": [
      "[[-0.56759036  0.19747162]\n",
      " [-0.37455934  0.05177116]\n",
      " [-0.8969219   0.6251585 ]\n",
      " [-0.90813255  0.6261324 ]\n",
      " [-0.9069947   0.62404275]\n",
      " [-0.8550825   0.5161369 ]\n",
      " [-0.6102451   0.26658   ]\n",
      " [-0.3665326   0.03779297]\n",
      " [-0.42419553  0.05496217]\n",
      " [-0.7305125   0.39843807]]\n",
      "PREDS [1 1 1 1 1 1 1 1 1 1]\n",
      "LABELS [0 0 1 1 1 1 1 0 0 0]\n"
     ]
    },
    {
     "name": "stderr",
     "output_type": "stream",
     "text": [
      "Saving model checkpoint to ../training-checkpoints/checkpoint-50\n",
      "Configuration saved in ../training-checkpoints/checkpoint-50/config.json\n",
      "Model weights saved in ../training-checkpoints/checkpoint-50/pytorch_model.bin\n",
      "tokenizer config file saved in ../training-checkpoints/checkpoint-50/tokenizer_config.json\n",
      "Special tokens file saved in ../training-checkpoints/checkpoint-50/special_tokens_map.json\n",
      "Deleting older checkpoint [../training-checkpoints/checkpoint-20] due to args.save_total_limit\n",
      "The following columns in the evaluation set don't have a corresponding argument in `BertForSequenceClassification.forward` and have been ignored: text. If text are not expected by `BertForSequenceClassification.forward`,  you can safely ignore this message.\n",
      "***** Running Evaluation *****\n",
      "  Num examples = 10\n",
      "  Batch size = 1\n"
     ]
    },
    {
     "name": "stdout",
     "output_type": "stream",
     "text": [
      "[[-0.48493037  0.10595788]\n",
      " [-0.12446091 -0.1929117 ]\n",
      " [-1.1381111   0.90916336]\n",
      " [-1.1552248   0.9083038 ]\n",
      " [-1.1477555   0.89978456]\n",
      " [-1.0379833   0.7133919 ]\n",
      " [-0.5776015   0.2343863 ]\n",
      " [-0.12830043 -0.19567537]\n",
      " [-0.21150765 -0.16468304]\n",
      " [-0.81719124  0.49114057]]\n",
      "PREDS [1 0 1 1 1 1 1 0 1 1]\n",
      "LABELS [0 0 1 1 1 1 1 0 0 0]\n"
     ]
    },
    {
     "name": "stderr",
     "output_type": "stream",
     "text": [
      "Saving model checkpoint to ../training-checkpoints/checkpoint-60\n",
      "Configuration saved in ../training-checkpoints/checkpoint-60/config.json\n",
      "Model weights saved in ../training-checkpoints/checkpoint-60/pytorch_model.bin\n",
      "tokenizer config file saved in ../training-checkpoints/checkpoint-60/tokenizer_config.json\n",
      "Special tokens file saved in ../training-checkpoints/checkpoint-60/special_tokens_map.json\n",
      "Deleting older checkpoint [../training-checkpoints/checkpoint-30] due to args.save_total_limit\n",
      "The following columns in the evaluation set don't have a corresponding argument in `BertForSequenceClassification.forward` and have been ignored: text. If text are not expected by `BertForSequenceClassification.forward`,  you can safely ignore this message.\n",
      "***** Running Evaluation *****\n",
      "  Num examples = 10\n",
      "  Batch size = 1\n"
     ]
    },
    {
     "name": "stdout",
     "output_type": "stream",
     "text": [
      "[[-0.20435876 -0.18196955]\n",
      " [ 0.46274093 -0.74940467]\n",
      " [-1.415817    1.2591076 ]\n",
      " [-1.4758974   1.2992947 ]\n",
      " [-1.4894832   1.3129562 ]\n",
      " [-1.2792498   0.9858619 ]\n",
      " [-0.3970693   0.05820819]\n",
      " [ 0.45260555 -0.75121105]\n",
      " [ 0.29184556 -0.65355814]\n",
      " [-0.8519279   0.5287627 ]]\n",
      "PREDS [1 0 1 1 1 1 1 0 0 1]\n",
      "LABELS [0 0 1 1 1 1 1 0 0 0]\n"
     ]
    },
    {
     "name": "stderr",
     "output_type": "stream",
     "text": [
      "Saving model checkpoint to ../training-checkpoints/checkpoint-70\n",
      "Configuration saved in ../training-checkpoints/checkpoint-70/config.json\n",
      "Model weights saved in ../training-checkpoints/checkpoint-70/pytorch_model.bin\n",
      "tokenizer config file saved in ../training-checkpoints/checkpoint-70/tokenizer_config.json\n",
      "Special tokens file saved in ../training-checkpoints/checkpoint-70/special_tokens_map.json\n",
      "Deleting older checkpoint [../training-checkpoints/checkpoint-40] due to args.save_total_limit\n",
      "The following columns in the evaluation set don't have a corresponding argument in `BertForSequenceClassification.forward` and have been ignored: text. If text are not expected by `BertForSequenceClassification.forward`,  you can safely ignore this message.\n",
      "***** Running Evaluation *****\n",
      "  Num examples = 10\n",
      "  Batch size = 1\n"
     ]
    },
    {
     "name": "stdout",
     "output_type": "stream",
     "text": [
      "[[-0.31256682 -0.06805959]\n",
      " [ 0.71766055 -0.9741449 ]\n",
      " [-1.9551431   1.9841692 ]\n",
      " [-2.010648    2.0361893 ]\n",
      " [-2.0308142   2.050364  ]\n",
      " [-1.8632245   1.7267557 ]\n",
      " [-0.7548868   0.46609837]\n",
      " [ 0.72172284 -0.99236363]\n",
      " [ 0.47986355 -0.8195762 ]\n",
      " [-1.3503804   1.111244  ]]\n",
      "PREDS [1 0 1 1 1 1 1 0 0 1]\n",
      "LABELS [0 0 1 1 1 1 1 0 0 0]\n"
     ]
    },
    {
     "name": "stderr",
     "output_type": "stream",
     "text": [
      "Saving model checkpoint to ../training-checkpoints/checkpoint-80\n",
      "Configuration saved in ../training-checkpoints/checkpoint-80/config.json\n",
      "Model weights saved in ../training-checkpoints/checkpoint-80/pytorch_model.bin\n",
      "tokenizer config file saved in ../training-checkpoints/checkpoint-80/tokenizer_config.json\n",
      "Special tokens file saved in ../training-checkpoints/checkpoint-80/special_tokens_map.json\n",
      "Deleting older checkpoint [../training-checkpoints/checkpoint-50] due to args.save_total_limit\n",
      "The following columns in the evaluation set don't have a corresponding argument in `BertForSequenceClassification.forward` and have been ignored: text. If text are not expected by `BertForSequenceClassification.forward`,  you can safely ignore this message.\n",
      "***** Running Evaluation *****\n",
      "  Num examples = 10\n",
      "  Batch size = 1\n"
     ]
    },
    {
     "name": "stdout",
     "output_type": "stream",
     "text": [
      "[[ 0.24375689 -0.6347455 ]\n",
      " [ 1.3267066  -1.5692118 ]\n",
      " [-2.2447357   2.3709633 ]\n",
      " [-2.2946167   2.4184656 ]\n",
      " [-2.3195634   2.4349923 ]\n",
      " [-2.143381    2.0783303 ]\n",
      " [-0.45168376  0.16582389]\n",
      " [ 1.3231709  -1.5911183 ]\n",
      " [ 1.1375697  -1.4491277 ]\n",
      " [-1.4357418   1.208245  ]]\n",
      "PREDS [0 0 1 1 1 1 1 0 0 1]\n",
      "LABELS [0 0 1 1 1 1 1 0 0 0]\n"
     ]
    },
    {
     "name": "stderr",
     "output_type": "stream",
     "text": [
      "Saving model checkpoint to ../training-checkpoints/checkpoint-90\n",
      "Configuration saved in ../training-checkpoints/checkpoint-90/config.json\n",
      "Model weights saved in ../training-checkpoints/checkpoint-90/pytorch_model.bin\n",
      "tokenizer config file saved in ../training-checkpoints/checkpoint-90/tokenizer_config.json\n",
      "Special tokens file saved in ../training-checkpoints/checkpoint-90/special_tokens_map.json\n",
      "Deleting older checkpoint [../training-checkpoints/checkpoint-60] due to args.save_total_limit\n",
      "The following columns in the evaluation set don't have a corresponding argument in `BertForSequenceClassification.forward` and have been ignored: text. If text are not expected by `BertForSequenceClassification.forward`,  you can safely ignore this message.\n",
      "***** Running Evaluation *****\n",
      "  Num examples = 10\n",
      "  Batch size = 1\n"
     ]
    },
    {
     "name": "stdout",
     "output_type": "stream",
     "text": [
      "[[ 0.56818163 -0.9523997 ]\n",
      " [ 1.5320762  -1.7794728 ]\n",
      " [-2.3002353   2.4384127 ]\n",
      " [-2.3496423   2.482844  ]\n",
      " [-2.3765564   2.5007553 ]\n",
      " [-2.1907153   2.1300793 ]\n",
      " [-0.2567394  -0.02931753]\n",
      " [ 1.5295653  -1.8047838 ]\n",
      " [ 1.3675306  -1.6769116 ]\n",
      " [-1.3370025   1.0929039 ]]\n",
      "PREDS [0 0 1 1 1 1 1 0 0 1]\n",
      "LABELS [0 0 1 1 1 1 1 0 0 0]\n"
     ]
    },
    {
     "name": "stderr",
     "output_type": "stream",
     "text": [
      "Saving model checkpoint to ../training-checkpoints/checkpoint-100\n",
      "Configuration saved in ../training-checkpoints/checkpoint-100/config.json\n",
      "Model weights saved in ../training-checkpoints/checkpoint-100/pytorch_model.bin\n",
      "tokenizer config file saved in ../training-checkpoints/checkpoint-100/tokenizer_config.json\n",
      "Special tokens file saved in ../training-checkpoints/checkpoint-100/special_tokens_map.json\n",
      "Deleting older checkpoint [../training-checkpoints/checkpoint-70] due to args.save_total_limit\n",
      "\n",
      "\n",
      "Training completed. Do not forget to share your model on huggingface.co/models =)\n",
      "\n",
      "\n",
      "The following columns in the test set don't have a corresponding argument in `BertForSequenceClassification.forward` and have been ignored: text. If text are not expected by `BertForSequenceClassification.forward`,  you can safely ignore this message.\n",
      "***** Running Prediction *****\n",
      "  Num examples = 20\n",
      "  Batch size = 1\n"
     ]
    },
    {
     "data": {
      "text/plain": "<IPython.core.display.HTML object>",
      "text/html": "\n    <div>\n      \n      <progress value='1' max='20' style='width:300px; height:20px; vertical-align: middle;'></progress>\n      [ 1/20 : < :]\n    </div>\n    "
     },
     "metadata": {},
     "output_type": "display_data"
    },
    {
     "name": "stdout",
     "output_type": "stream",
     "text": [
      "[[ 0.83150387 -1.0455612 ]\n",
      " [ 1.3024168  -1.5945535 ]\n",
      " [ 1.2472796  -1.5266438 ]\n",
      " [-1.2660668   0.96118355]\n",
      " [ 1.043215   -1.3469826 ]\n",
      " [-1.7565308   1.653706  ]\n",
      " [ 0.8188604  -1.1564572 ]\n",
      " [-0.31361818  0.03787396]\n",
      " [ 0.91278684 -1.1873815 ]\n",
      " [ 1.2342386  -1.5319548 ]\n",
      " [ 0.5119903  -0.81276834]\n",
      " [ 0.7178125  -0.9798484 ]\n",
      " [-1.8974295   1.8141869 ]\n",
      " [-2.3183742   2.4706788 ]\n",
      " [-1.6356996   1.4102662 ]\n",
      " [ 0.52811825 -0.8062937 ]\n",
      " [ 0.8965265  -1.2483277 ]\n",
      " [-1.9545257   1.8107259 ]\n",
      " [ 0.9581102  -1.214535  ]\n",
      " [ 0.21868679 -0.54523504]]\n",
      "PREDS [0 0 0 1 0 1 0 1 0 0 0 0 1 1 1 0 0 1 0 0]\n",
      "LABELS [0 0 1 1 0 0 0 1 1 1 1 1 1 1 0 0 1 1 0 0]\n"
     ]
    },
    {
     "data": {
      "text/plain": "PredictionOutput(predictions=array([[ 0.83150387, -1.0455612 ],\n       [ 1.3024168 , -1.5945535 ],\n       [ 1.2472796 , -1.5266438 ],\n       [-1.2660668 ,  0.96118355],\n       [ 1.043215  , -1.3469826 ],\n       [-1.7565308 ,  1.653706  ],\n       [ 0.8188604 , -1.1564572 ],\n       [-0.31361818,  0.03787396],\n       [ 0.91278684, -1.1873815 ],\n       [ 1.2342386 , -1.5319548 ],\n       [ 0.5119903 , -0.81276834],\n       [ 0.7178125 , -0.9798484 ],\n       [-1.8974295 ,  1.8141869 ],\n       [-2.3183742 ,  2.4706788 ],\n       [-1.6356996 ,  1.4102662 ],\n       [ 0.52811825, -0.8062937 ],\n       [ 0.8965265 , -1.2483277 ],\n       [-1.9545257 ,  1.8107259 ],\n       [ 0.9581102 , -1.214535  ],\n       [ 0.21868679, -0.54523504]], dtype=float32), label_ids=array([0, 0, 1, 1, 0, 0, 0, 1, 1, 1, 1, 1, 1, 1, 0, 0, 1, 1, 0, 0]), metrics={'test_loss': 1.0961285829544067, 'test_accuracy': 0.6, 'test_precision': 0.6263736263736193, 'test_recall': 0.6161616161616098, 'test_f1': 0.6212256566016944, 'test_runtime': 0.7887, 'test_samples_per_second': 25.359, 'test_steps_per_second': 25.359})"
     },
     "execution_count": 48,
     "metadata": {},
     "output_type": "execute_result"
    }
   ],
   "source": [
    "import datasets\n",
    "from transformers import BertTokenizer, BertConfig, BertForSequenceClassification, TrainingArguments, Trainer\n",
    "import numpy as np\n",
    "from src.eval import eval_preds\n",
    "\n",
    "dataset = datasets.load_dataset(\"michaelginn/latent-trees-agreement-ID\")\n",
    "\n",
    "\n",
    "tokenizer = BertTokenizer.from_pretrained(\"bert-base-uncased\")\n",
    "max_length = 100\n",
    "def tokenize_function(example):\n",
    "    return tokenizer(example['text'], max_length=max_length, truncation=True)\n",
    "dataset = dataset.map(tokenize_function, batched=True, load_from_cache_file=False)\n",
    "\n",
    "toy_dataset = dataset['train'].select(range(1, 11))\n",
    "\n",
    "id2label = {0: \"VIOLATION\", 1: \"GRAMMATICAL\"}\n",
    "label2id = {\"VIOLATION\": 0, \"GRAMMATICAL\": 1}\n",
    "\n",
    "pretrained = True\n",
    "if pretrained:\n",
    "    config = BertConfig.from_pretrained('bert-base-uncased', num_labels=2, id2label=id2label, label2id=label2id)\n",
    "else:\n",
    "    # Create random initialized BERT model\n",
    "    config = BertConfig(num_labels=2, id2label=id2label, label2id=label2id)\n",
    "\n",
    "model = BertForSequenceClassification(config=config).to('mps')\n",
    "\n",
    "args = TrainingArguments(\n",
    "    output_dir=f\"../training-checkpoints\",\n",
    "    learning_rate=2e-5,\n",
    "    evaluation_strategy=\"epoch\",\n",
    "    per_device_train_batch_size=1,\n",
    "    per_device_eval_batch_size=1,\n",
    "    gradient_accumulation_steps=1,\n",
    "    save_strategy=\"epoch\",\n",
    "    weight_decay=0.01,\n",
    "    save_total_limit=3,\n",
    "    num_train_epochs=10,\n",
    "    load_best_model_at_end=False,\n",
    "    logging_strategy='epoch',\n",
    ")\n",
    "\n",
    "def compute_metrics(eval_pred):\n",
    "    labels = eval_pred.label_ids\n",
    "    preds = np.argmax(eval_pred.predictions, axis=-1)\n",
    "    print(eval_pred.predictions)\n",
    "    return eval_preds(preds, labels)\n",
    "\n",
    "\n",
    "trainer = Trainer(\n",
    "    model,\n",
    "    args,\n",
    "    train_dataset=toy_dataset,\n",
    "    eval_dataset=toy_dataset, # dataset['test'].select(range(20)),\n",
    "    compute_metrics=compute_metrics,\n",
    "    tokenizer=tokenizer\n",
    ")\n",
    "\n",
    "trainer.train()\n",
    "\n",
    "preds = trainer.predict(dataset['test'].select(range(20)))\n",
    "preds"
   ]
  },
  {
   "cell_type": "code",
   "execution_count": 50,
   "outputs": [
    {
     "name": "stderr",
     "output_type": "stream",
     "text": [
      "The following columns in the evaluation set don't have a corresponding argument in `BertForSequenceClassification.forward` and have been ignored: text. If text are not expected by `BertForSequenceClassification.forward`,  you can safely ignore this message.\n",
      "***** Running Evaluation *****\n",
      "  Num examples = 10\n",
      "  Batch size = 1\n"
     ]
    },
    {
     "name": "stdout",
     "output_type": "stream",
     "text": [
      "[[ 0.56818163 -0.9523997 ]\n",
      " [ 1.5320762  -1.7794728 ]\n",
      " [-2.3002353   2.4384127 ]\n",
      " [-2.3496423   2.482844  ]\n",
      " [-2.3765564   2.5007553 ]\n",
      " [-2.1907153   2.1300793 ]\n",
      " [-0.2567394  -0.02931753]\n",
      " [ 1.5295653  -1.8047838 ]\n",
      " [ 1.3675306  -1.6769116 ]\n",
      " [-1.3370025   1.0929039 ]]\n",
      "PREDS [0 0 1 1 1 1 1 0 0 1]\n",
      "LABELS [0 0 1 1 1 1 1 0 0 0]\n"
     ]
    },
    {
     "data": {
      "text/plain": "{'test_loss': 0.34526562690734863,\n 'test_accuracy': 0.9,\n 'test_precision': 0.9166666666666472,\n 'test_recall': 0.8999999999999819,\n 'test_f1': 0.9082568807338762,\n 'test_runtime': 0.4494,\n 'test_samples_per_second': 22.253,\n 'test_steps_per_second': 22.253,\n 'epoch': 10.0}"
     },
     "execution_count": 50,
     "metadata": {},
     "output_type": "execute_result"
    }
   ],
   "source": [
    "eval = trainer.evaluate(toy_dataset)\n",
    "{k.replace('eval', 'test'): eval[k] for k in eval}"
   ],
   "metadata": {
    "collapsed": false,
    "ExecuteTime": {
     "end_time": "2023-11-26T03:13:39.022012Z",
     "start_time": "2023-11-26T03:13:38.566908Z"
    }
   }
  },
  {
   "cell_type": "code",
   "execution_count": null,
   "outputs": [],
   "source": [],
   "metadata": {
    "collapsed": false
   }
  }
 ],
 "metadata": {
  "kernelspec": {
   "display_name": "Python 3",
   "language": "python",
   "name": "python3"
  },
  "language_info": {
   "codemirror_mode": {
    "name": "ipython",
    "version": 2
   },
   "file_extension": ".py",
   "mimetype": "text/x-python",
   "name": "python",
   "nbconvert_exporter": "python",
   "pygments_lexer": "ipython2",
   "version": "2.7.6"
  }
 },
 "nbformat": 4,
 "nbformat_minor": 0
}

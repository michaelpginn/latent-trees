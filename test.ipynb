{
 "cells": [
  {
   "cell_type": "code",
   "execution_count": 5,
   "metadata": {
    "collapsed": true,
    "ExecuteTime": {
     "end_time": "2023-11-25T22:51:51.027352Z",
     "start_time": "2023-11-25T22:50:57.681146Z"
    }
   },
   "outputs": [
    {
     "name": "stderr",
     "output_type": "stream",
     "text": [
      "loading file https://huggingface.co/bert-base-uncased/resolve/main/vocab.txt from cache at /Users/milesper/.cache/huggingface/transformers/45c3f7a79a80e1cf0a489e5c62b43f173c15db47864303a55d623bb3c96f72a5.d789d64ebfe299b0e416afc4a169632f903f693095b4629a7ea271d5a0cf2c99\n",
      "loading file https://huggingface.co/bert-base-uncased/resolve/main/added_tokens.json from cache at None\n",
      "loading file https://huggingface.co/bert-base-uncased/resolve/main/special_tokens_map.json from cache at None\n",
      "loading file https://huggingface.co/bert-base-uncased/resolve/main/tokenizer_config.json from cache at /Users/milesper/.cache/huggingface/transformers/c1d7f0a763fb63861cc08553866f1fc3e5a6f4f07621be277452d26d71303b7e.20430bd8e10ef77a7d2977accefe796051e01bc2fc4aa146bc862997a1a15e79\n",
      "loading configuration file https://huggingface.co/bert-base-uncased/resolve/main/config.json from cache at /Users/milesper/.cache/huggingface/transformers/3c61d016573b14f7f008c02c4e51a366c67ab274726fe2910691e2a761acf43e.37395cee442ab11005bcd270f3c34464dc1704b715b5d7d52b1a461abe3b9e4e\n",
      "Model config BertConfig {\n",
      "  \"_name_or_path\": \"bert-base-uncased\",\n",
      "  \"architectures\": [\n",
      "    \"BertForMaskedLM\"\n",
      "  ],\n",
      "  \"attention_probs_dropout_prob\": 0.1,\n",
      "  \"classifier_dropout\": null,\n",
      "  \"gradient_checkpointing\": false,\n",
      "  \"hidden_act\": \"gelu\",\n",
      "  \"hidden_dropout_prob\": 0.1,\n",
      "  \"hidden_size\": 768,\n",
      "  \"initializer_range\": 0.02,\n",
      "  \"intermediate_size\": 3072,\n",
      "  \"layer_norm_eps\": 1e-12,\n",
      "  \"max_position_embeddings\": 512,\n",
      "  \"model_type\": \"bert\",\n",
      "  \"num_attention_heads\": 12,\n",
      "  \"num_hidden_layers\": 12,\n",
      "  \"pad_token_id\": 0,\n",
      "  \"position_embedding_type\": \"absolute\",\n",
      "  \"transformers_version\": \"4.21.3\",\n",
      "  \"type_vocab_size\": 2,\n",
      "  \"use_cache\": true,\n",
      "  \"vocab_size\": 30522\n",
      "}\n",
      "\n"
     ]
    },
    {
     "data": {
      "text/plain": "Map:   0%|          | 0/2800 [00:00<?, ? examples/s]",
      "application/vnd.jupyter.widget-view+json": {
       "version_major": 2,
       "version_minor": 0,
       "model_id": "38829f683aea43b7b200c94ff280cde0"
      }
     },
     "metadata": {},
     "output_type": "display_data"
    },
    {
     "data": {
      "text/plain": "Map:   0%|          | 0/1200 [00:00<?, ? examples/s]",
      "application/vnd.jupyter.widget-view+json": {
       "version_major": 2,
       "version_minor": 0,
       "model_id": "f7ef9d259eab4bee86443050e41fcefd"
      }
     },
     "metadata": {},
     "output_type": "display_data"
    },
    {
     "name": "stderr",
     "output_type": "stream",
     "text": [
      "loading configuration file https://huggingface.co/bert-base-uncased/resolve/main/config.json from cache at /Users/milesper/.cache/huggingface/transformers/3c61d016573b14f7f008c02c4e51a366c67ab274726fe2910691e2a761acf43e.37395cee442ab11005bcd270f3c34464dc1704b715b5d7d52b1a461abe3b9e4e\n",
      "Model config BertConfig {\n",
      "  \"architectures\": [\n",
      "    \"BertForMaskedLM\"\n",
      "  ],\n",
      "  \"attention_probs_dropout_prob\": 0.1,\n",
      "  \"classifier_dropout\": null,\n",
      "  \"gradient_checkpointing\": false,\n",
      "  \"hidden_act\": \"gelu\",\n",
      "  \"hidden_dropout_prob\": 0.1,\n",
      "  \"hidden_size\": 768,\n",
      "  \"initializer_range\": 0.02,\n",
      "  \"intermediate_size\": 3072,\n",
      "  \"layer_norm_eps\": 1e-12,\n",
      "  \"max_position_embeddings\": 512,\n",
      "  \"model_type\": \"bert\",\n",
      "  \"num_attention_heads\": 12,\n",
      "  \"num_hidden_layers\": 12,\n",
      "  \"pad_token_id\": 0,\n",
      "  \"position_embedding_type\": \"absolute\",\n",
      "  \"transformers_version\": \"4.21.3\",\n",
      "  \"type_vocab_size\": 2,\n",
      "  \"use_cache\": true,\n",
      "  \"vocab_size\": 30522\n",
      "}\n",
      "\n",
      "PyTorch: setting up devices\n",
      "The following columns in the training set don't have a corresponding argument in `BertForSequenceClassification.forward` and have been ignored: text. If text are not expected by `BertForSequenceClassification.forward`,  you can safely ignore this message.\n",
      "***** Running training *****\n",
      "  Num examples = 10\n",
      "  Num Epochs = 10\n",
      "  Instantaneous batch size per device = 1\n",
      "  Total train batch size (w. parallel, distributed & accumulation) = 3\n",
      "  Gradient Accumulation steps = 3\n",
      "  Total optimization steps = 30\n",
      "Automatic Weights & Biases logging enabled, to disable set os.environ[\"WANDB_DISABLED\"] = \"true\"\n"
     ]
    },
    {
     "data": {
      "text/plain": "<IPython.core.display.HTML object>",
      "text/html": "\n    <div>\n      \n      <progress value='2' max='30' style='width:300px; height:20px; vertical-align: middle;'></progress>\n      [ 2/30 : < :, Epoch 0.30/10]\n    </div>\n    <table border=\"1\" class=\"dataframe\">\n  <thead>\n <tr style=\"text-align: left;\">\n      <th>Epoch</th>\n      <th>Training Loss</th>\n      <th>Validation Loss</th>\n    </tr>\n  </thead>\n  <tbody>\n  </tbody>\n</table><p>"
     },
     "metadata": {},
     "output_type": "display_data"
    },
    {
     "name": "stderr",
     "output_type": "stream",
     "text": [
      "The following columns in the evaluation set don't have a corresponding argument in `BertForSequenceClassification.forward` and have been ignored: text. If text are not expected by `BertForSequenceClassification.forward`,  you can safely ignore this message.\n",
      "***** Running Evaluation *****\n",
      "  Num examples = 10\n",
      "  Batch size = 1\n"
     ]
    },
    {
     "name": "stdout",
     "output_type": "stream",
     "text": [
      "[[-1.1179357   1.3664817 ]\n",
      " [-1.0935471   1.3240856 ]\n",
      " [-0.9150632   1.1935802 ]\n",
      " [-1.2055941   1.4077724 ]\n",
      " [-1.2706304   1.4327023 ]\n",
      " [-1.2617466   1.4232585 ]\n",
      " [-1.2208904   1.4263747 ]\n",
      " [-1.1233699   1.3454708 ]\n",
      " [-0.90578747  1.2026079 ]\n",
      " [-1.0126162   1.250495  ]]\n",
      "PREDS [1 1 1 1 1 1 1 1 1 1]\n",
      "LABELS [1 0 0 1 1 1 1 1 0 0]\n"
     ]
    },
    {
     "name": "stderr",
     "output_type": "stream",
     "text": [
      "Saving model checkpoint to ../training-checkpoints/checkpoint-3\n",
      "Configuration saved in ../training-checkpoints/checkpoint-3/config.json\n",
      "Model weights saved in ../training-checkpoints/checkpoint-3/pytorch_model.bin\n",
      "Deleting older checkpoint [../training-checkpoints/checkpoint-14] due to args.save_total_limit\n",
      "Deleting older checkpoint [../training-checkpoints/checkpoint-16] due to args.save_total_limit\n",
      "The following columns in the evaluation set don't have a corresponding argument in `BertForSequenceClassification.forward` and have been ignored: text. If text are not expected by `BertForSequenceClassification.forward`,  you can safely ignore this message.\n",
      "***** Running Evaluation *****\n",
      "  Num examples = 10\n",
      "  Batch size = 1\n"
     ]
    },
    {
     "name": "stdout",
     "output_type": "stream",
     "text": [
      "[[-0.29804322  0.43019196]\n",
      " [-0.2520776   0.3678865 ]\n",
      " [-0.06757163  0.2216199 ]\n",
      " [-0.42850274  0.4985996 ]\n",
      " [-0.42320266  0.4943235 ]\n",
      " [-0.42653924  0.5018227 ]\n",
      " [-0.3867669   0.4814942 ]\n",
      " [-0.28525406  0.38903785]\n",
      " [-0.0827678   0.22735633]\n",
      " [-0.17032826  0.2847673 ]]\n",
      "PREDS [1 1 1 1 1 1 1 1 1 1]\n",
      "LABELS [1 0 0 1 1 1 1 1 0 0]\n"
     ]
    },
    {
     "name": "stderr",
     "output_type": "stream",
     "text": [
      "Saving model checkpoint to ../training-checkpoints/checkpoint-6\n",
      "Configuration saved in ../training-checkpoints/checkpoint-6/config.json\n",
      "Model weights saved in ../training-checkpoints/checkpoint-6/pytorch_model.bin\n",
      "Deleting older checkpoint [../training-checkpoints/checkpoint-18] due to args.save_total_limit\n",
      "The following columns in the evaluation set don't have a corresponding argument in `BertForSequenceClassification.forward` and have been ignored: text. If text are not expected by `BertForSequenceClassification.forward`,  you can safely ignore this message.\n",
      "***** Running Evaluation *****\n",
      "  Num examples = 10\n",
      "  Batch size = 1\n"
     ]
    },
    {
     "name": "stdout",
     "output_type": "stream",
     "text": [
      "[[ 0.47202072 -0.18887904]\n",
      " [ 0.5784718  -0.30033913]\n",
      " [ 0.7452614  -0.4567238 ]\n",
      " [ 0.31946757 -0.09457489]\n",
      " [ 0.34048903 -0.11347176]\n",
      " [ 0.33718264 -0.10397281]\n",
      " [ 0.3978076  -0.15101987]\n",
      " [ 0.5474052  -0.28453022]\n",
      " [ 0.74125516 -0.46360838]\n",
      " [ 0.6715506  -0.4096954 ]]\n",
      "PREDS [0 0 0 0 0 0 0 0 0 0]\n",
      "LABELS [1 0 0 1 1 1 1 1 0 0]\n"
     ]
    },
    {
     "name": "stderr",
     "output_type": "stream",
     "text": [
      "Saving model checkpoint to ../training-checkpoints/checkpoint-9\n",
      "Configuration saved in ../training-checkpoints/checkpoint-9/config.json\n",
      "Model weights saved in ../training-checkpoints/checkpoint-9/pytorch_model.bin\n",
      "Deleting older checkpoint [../training-checkpoints/checkpoint-20] due to args.save_total_limit\n",
      "The following columns in the evaluation set don't have a corresponding argument in `BertForSequenceClassification.forward` and have been ignored: text. If text are not expected by `BertForSequenceClassification.forward`,  you can safely ignore this message.\n",
      "***** Running Evaluation *****\n",
      "  Num examples = 10\n",
      "  Batch size = 1\n"
     ]
    },
    {
     "name": "stdout",
     "output_type": "stream",
     "text": [
      "[[-0.16394049  0.34273928]\n",
      " [ 0.01937813  0.17554685]\n",
      " [ 0.25546134 -0.04028283]\n",
      " [-0.3510821   0.45982942]\n",
      " [-0.321734    0.43410522]\n",
      " [-0.3330962   0.45109624]\n",
      " [-0.26890352  0.40121636]\n",
      " [-0.03289691  0.20996882]\n",
      " [ 0.26233914 -0.05275812]\n",
      " [ 0.15693396  0.03410645]]\n",
      "PREDS [1 1 0 1 1 1 1 1 0 0]\n",
      "LABELS [1 0 0 1 1 1 1 1 0 0]\n"
     ]
    },
    {
     "name": "stderr",
     "output_type": "stream",
     "text": [
      "Saving model checkpoint to ../training-checkpoints/checkpoint-12\n",
      "Configuration saved in ../training-checkpoints/checkpoint-12/config.json\n",
      "Model weights saved in ../training-checkpoints/checkpoint-12/pytorch_model.bin\n",
      "Deleting older checkpoint [../training-checkpoints/checkpoint-3] due to args.save_total_limit\n",
      "The following columns in the evaluation set don't have a corresponding argument in `BertForSequenceClassification.forward` and have been ignored: text. If text are not expected by `BertForSequenceClassification.forward`,  you can safely ignore this message.\n",
      "***** Running Evaluation *****\n",
      "  Num examples = 10\n",
      "  Batch size = 1\n"
     ]
    },
    {
     "name": "stdout",
     "output_type": "stream",
     "text": [
      "[[-0.539212    0.649873  ]\n",
      " [-0.20865627  0.35452166]\n",
      " [ 0.1684573   0.01224801]\n",
      " [-0.81245714  0.83648944]\n",
      " [-0.7798877   0.8079491 ]\n",
      " [-0.81234515  0.84246206]\n",
      " [-0.73465574  0.77926093]\n",
      " [-0.34513533  0.46022457]\n",
      " [ 0.19076195 -0.01226859]\n",
      " [ 0.01166182  0.13585564]]\n",
      "PREDS [1 1 0 1 1 1 1 1 0 1]\n",
      "LABELS [1 0 0 1 1 1 1 1 0 0]\n"
     ]
    },
    {
     "name": "stderr",
     "output_type": "stream",
     "text": [
      "Saving model checkpoint to ../training-checkpoints/checkpoint-15\n",
      "Configuration saved in ../training-checkpoints/checkpoint-15/config.json\n",
      "Model weights saved in ../training-checkpoints/checkpoint-15/pytorch_model.bin\n",
      "Deleting older checkpoint [../training-checkpoints/checkpoint-6] due to args.save_total_limit\n",
      "The following columns in the evaluation set don't have a corresponding argument in `BertForSequenceClassification.forward` and have been ignored: text. If text are not expected by `BertForSequenceClassification.forward`,  you can safely ignore this message.\n",
      "***** Running Evaluation *****\n",
      "  Num examples = 10\n",
      "  Batch size = 1\n"
     ]
    },
    {
     "name": "stdout",
     "output_type": "stream",
     "text": [
      "[[-0.3434649   0.4600704 ]\n",
      " [ 0.38856807 -0.19446984]\n",
      " [ 1.0211767  -0.78650343]\n",
      " [-0.9075805   0.88514864]\n",
      " [-0.8567387   0.8384602 ]\n",
      " [-0.94372153  0.9187646 ]\n",
      " [-0.789724    0.79093957]\n",
      " [ 0.03541064  0.09760509]\n",
      " [ 1.0450215  -0.81219095]\n",
      " [ 0.7716863  -0.5866253 ]]\n",
      "PREDS [1 0 0 1 1 1 1 1 0 0]\n",
      "LABELS [1 0 0 1 1 1 1 1 0 0]\n"
     ]
    },
    {
     "name": "stderr",
     "output_type": "stream",
     "text": [
      "Saving model checkpoint to ../training-checkpoints/checkpoint-18\n",
      "Configuration saved in ../training-checkpoints/checkpoint-18/config.json\n",
      "Model weights saved in ../training-checkpoints/checkpoint-18/pytorch_model.bin\n",
      "Deleting older checkpoint [../training-checkpoints/checkpoint-9] due to args.save_total_limit\n",
      "The following columns in the evaluation set don't have a corresponding argument in `BertForSequenceClassification.forward` and have been ignored: text. If text are not expected by `BertForSequenceClassification.forward`,  you can safely ignore this message.\n",
      "***** Running Evaluation *****\n",
      "  Num examples = 10\n",
      "  Batch size = 1\n"
     ]
    },
    {
     "name": "stdout",
     "output_type": "stream",
     "text": [
      "[[-0.5158009   0.5917436 ]\n",
      " [ 0.8861027  -0.6591667 ]\n",
      " [ 1.6215199  -1.3677391 ]\n",
      " [-1.4454768   1.3301756 ]\n",
      " [-1.3878131   1.2712854 ]\n",
      " [-1.5104678   1.3810422 ]\n",
      " [-1.316827    1.219561  ]\n",
      " [ 0.11971101  0.00228929]\n",
      " [ 1.6437691  -1.3966019 ]\n",
      " [ 1.356835   -1.156396  ]]\n",
      "PREDS [1 0 0 1 1 1 1 0 0 0]\n",
      "LABELS [1 0 0 1 1 1 1 1 0 0]\n"
     ]
    },
    {
     "name": "stderr",
     "output_type": "stream",
     "text": [
      "Saving model checkpoint to ../training-checkpoints/checkpoint-21\n",
      "Configuration saved in ../training-checkpoints/checkpoint-21/config.json\n",
      "Model weights saved in ../training-checkpoints/checkpoint-21/pytorch_model.bin\n",
      "Deleting older checkpoint [../training-checkpoints/checkpoint-12] due to args.save_total_limit\n",
      "The following columns in the evaluation set don't have a corresponding argument in `BertForSequenceClassification.forward` and have been ignored: text. If text are not expected by `BertForSequenceClassification.forward`,  you can safely ignore this message.\n",
      "***** Running Evaluation *****\n",
      "  Num examples = 10\n",
      "  Batch size = 1\n"
     ]
    },
    {
     "name": "stdout",
     "output_type": "stream",
     "text": [
      "[[-1.7512172   1.6235843 ]\n",
      " [ 0.46027535 -0.27537924]\n",
      " [ 1.8564813  -1.5747919 ]\n",
      " [-2.2927408   2.0875492 ]\n",
      " [-2.295187    2.0679202 ]\n",
      " [-2.3390903   2.1156523 ]\n",
      " [-2.2529528   2.0317397 ]\n",
      " [-0.87836915  0.86512554]\n",
      " [ 1.8698337  -1.601629  ]\n",
      " [ 1.4808506  -1.2712641 ]]\n",
      "PREDS [1 0 0 1 1 1 1 1 0 0]\n",
      "LABELS [1 0 0 1 1 1 1 1 0 0]\n"
     ]
    },
    {
     "name": "stderr",
     "output_type": "stream",
     "text": [
      "Saving model checkpoint to ../training-checkpoints/checkpoint-24\n",
      "Configuration saved in ../training-checkpoints/checkpoint-24/config.json\n",
      "Model weights saved in ../training-checkpoints/checkpoint-24/pytorch_model.bin\n",
      "Deleting older checkpoint [../training-checkpoints/checkpoint-15] due to args.save_total_limit\n",
      "The following columns in the evaluation set don't have a corresponding argument in `BertForSequenceClassification.forward` and have been ignored: text. If text are not expected by `BertForSequenceClassification.forward`,  you can safely ignore this message.\n",
      "***** Running Evaluation *****\n",
      "  Num examples = 10\n",
      "  Batch size = 1\n"
     ]
    },
    {
     "name": "stdout",
     "output_type": "stream",
     "text": [
      "[[-2.2711802   2.064136  ]\n",
      " [ 0.08755343  0.04653877]\n",
      " [ 1.9891806  -1.6843555 ]\n",
      " [-2.5673738   2.3597765 ]\n",
      " [-2.5866818   2.34948   ]\n",
      " [-2.601398    2.376001  ]\n",
      " [-2.561885    2.3253427 ]\n",
      " [-1.6400346   1.50453   ]\n",
      " [ 1.999433   -1.7147781 ]\n",
      " [ 1.5091825  -1.2923696 ]]\n",
      "PREDS [1 0 0 1 1 1 1 1 0 0]\n",
      "LABELS [1 0 0 1 1 1 1 1 0 0]\n"
     ]
    },
    {
     "name": "stderr",
     "output_type": "stream",
     "text": [
      "Saving model checkpoint to ../training-checkpoints/checkpoint-27\n",
      "Configuration saved in ../training-checkpoints/checkpoint-27/config.json\n",
      "Model weights saved in ../training-checkpoints/checkpoint-27/pytorch_model.bin\n",
      "Deleting older checkpoint [../training-checkpoints/checkpoint-18] due to args.save_total_limit\n",
      "The following columns in the evaluation set don't have a corresponding argument in `BertForSequenceClassification.forward` and have been ignored: text. If text are not expected by `BertForSequenceClassification.forward`,  you can safely ignore this message.\n",
      "***** Running Evaluation *****\n",
      "  Num examples = 10\n",
      "  Batch size = 1\n"
     ]
    },
    {
     "name": "stdout",
     "output_type": "stream",
     "text": [
      "[[-2.3537512   2.1381905 ]\n",
      " [ 0.29000133 -0.12994525]\n",
      " [ 2.1392136  -1.819892  ]\n",
      " [-2.6273084   2.4221878 ]\n",
      " [-2.6499925   2.413395  ]\n",
      " [-2.661004    2.4375591 ]\n",
      " [-2.627305    2.3910153 ]\n",
      " [-1.754251    1.6009631 ]\n",
      " [ 2.1385055  -1.8438537 ]\n",
      " [ 1.6870191  -1.4523613 ]]\n",
      "PREDS [1 0 0 1 1 1 1 1 0 0]\n",
      "LABELS [1 0 0 1 1 1 1 1 0 0]\n"
     ]
    },
    {
     "name": "stderr",
     "output_type": "stream",
     "text": [
      "Saving model checkpoint to ../training-checkpoints/checkpoint-30\n",
      "Configuration saved in ../training-checkpoints/checkpoint-30/config.json\n",
      "Model weights saved in ../training-checkpoints/checkpoint-30/pytorch_model.bin\n",
      "Deleting older checkpoint [../training-checkpoints/checkpoint-21] due to args.save_total_limit\n",
      "\n",
      "\n",
      "Training completed. Do not forget to share your model on huggingface.co/models =)\n",
      "\n",
      "\n"
     ]
    },
    {
     "data": {
      "text/plain": "TrainOutput(global_step=30, training_loss=0.5061087836821874, metrics={'train_runtime': 45.4667, 'train_samples_per_second': 2.199, 'train_steps_per_second': 0.66, 'total_flos': 5087498922000.0, 'train_loss': 0.5061087836821874, 'epoch': 9.9})"
     },
     "execution_count": 5,
     "metadata": {},
     "output_type": "execute_result"
    }
   ],
   "source": [
    "import datasets\n",
    "from transformers import BertTokenizer, BertConfig, BertForSequenceClassification, TrainingArguments, Trainer\n",
    "import numpy as np\n",
    "from src.eval import eval_preds\n",
    "\n",
    "dataset = datasets.load_dataset(\"michaelginn/latent-trees-agreement-ID\")\n",
    "\n",
    "\n",
    "tokenizer = BertTokenizer.from_pretrained(\"bert-base-uncased\")\n",
    "max_length = 100\n",
    "def tokenize_function(example):\n",
    "    return tokenizer(example['text'], max_length=max_length, padding='max_length', truncation=True)\n",
    "dataset = dataset.map(tokenize_function, batched=True, load_from_cache_file=False)\n",
    "\n",
    "toy_dataset = dataset['train'].select(range(10))\n",
    "\n",
    "pretrained = True\n",
    "if pretrained:\n",
    "    config = BertConfig.from_pretrained('bert-base-uncased', num_labels=2)\n",
    "else:\n",
    "    # Create random initialized BERT model\n",
    "    config = BertConfig(num_labels=2)\n",
    "\n",
    "model = BertForSequenceClassification(config=config).to('mps')\n",
    "\n",
    "args = TrainingArguments(\n",
    "    output_dir=f\"../training-checkpoints\",\n",
    "    evaluation_strategy=\"epoch\",\n",
    "    per_device_train_batch_size=1,\n",
    "    per_device_eval_batch_size=1,\n",
    "    gradient_accumulation_steps=3,\n",
    "    save_strategy=\"epoch\",\n",
    "    save_total_limit=3,\n",
    "    num_train_epochs=10,\n",
    "    load_best_model_at_end=False,\n",
    "    logging_strategy='epoch',\n",
    "    report_to='wandb'\n",
    ")\n",
    "\n",
    "def compute_metrics(eval_pred):\n",
    "    labels = eval_pred.label_ids\n",
    "    preds = np.argmax(eval_pred.predictions, axis=-1)\n",
    "    print(eval_pred.predictions)\n",
    "    return eval_preds(preds, labels)\n",
    "\n",
    "\n",
    "trainer = Trainer(\n",
    "    model,\n",
    "    args,\n",
    "    train_dataset=toy_dataset,\n",
    "    eval_dataset=toy_dataset,\n",
    "    compute_metrics=compute_metrics,\n",
    ")\n",
    "\n",
    "trainer.train()"
   ]
  },
  {
   "cell_type": "code",
   "execution_count": 8,
   "outputs": [
    {
     "name": "stderr",
     "output_type": "stream",
     "text": [
      "The following columns in the test set don't have a corresponding argument in `BertForSequenceClassification.forward` and have been ignored: text. If text are not expected by `BertForSequenceClassification.forward`,  you can safely ignore this message.\n",
      "***** Running Prediction *****\n",
      "  Num examples = 20\n",
      "  Batch size = 1\n"
     ]
    },
    {
     "name": "stdout",
     "output_type": "stream",
     "text": [
      "[[ 0.37556407 -0.20810999]\n",
      " [ 1.9821789  -1.6856345 ]\n",
      " [ 1.8124082  -1.5262196 ]\n",
      " [-2.1486216   1.9749408 ]\n",
      " [ 1.6546522  -1.3272806 ]\n",
      " [-2.480386    2.229885  ]\n",
      " [ 1.4240357  -1.1799687 ]\n",
      " [-1.0209055   1.003545  ]\n",
      " [ 1.0481441  -0.828573  ]\n",
      " [ 1.8723347  -1.5579777 ]\n",
      " [ 0.133605   -0.02459436]\n",
      " [ 1.0626667  -0.8508463 ]\n",
      " [-2.4228776   2.2447116 ]\n",
      " [-2.7038057   2.4753833 ]\n",
      " [-2.4699807   2.2760224 ]\n",
      " [-0.47930747  0.4828345 ]\n",
      " [ 1.1681967  -0.8876208 ]\n",
      " [-2.5493135   2.3202372 ]\n",
      " [ 1.0073977  -0.81787634]\n",
      " [-0.79542565  0.7664305 ]]\n",
      "PREDS [0 0 0 1 0 1 0 1 0 0 0 0 1 1 1 1 0 1 0 1]\n",
      "LABELS [0 0 1 1 0 0 0 1 1 1 1 1 1 1 0 0 1 1 0 0]\n"
     ]
    },
    {
     "data": {
      "text/plain": "PredictionOutput(predictions=array([[ 0.37556407, -0.20810999],\n       [ 1.9821789 , -1.6856345 ],\n       [ 1.8124082 , -1.5262196 ],\n       [-2.1486216 ,  1.9749408 ],\n       [ 1.6546522 , -1.3272806 ],\n       [-2.480386  ,  2.229885  ],\n       [ 1.4240357 , -1.1799687 ],\n       [-1.0209055 ,  1.003545  ],\n       [ 1.0481441 , -0.828573  ],\n       [ 1.8723347 , -1.5579777 ],\n       [ 0.133605  , -0.02459436],\n       [ 1.0626667 , -0.8508463 ],\n       [-2.4228776 ,  2.2447116 ],\n       [-2.7038057 ,  2.4753833 ],\n       [-2.4699807 ,  2.2760224 ],\n       [-0.47930747,  0.4828345 ],\n       [ 1.1681967 , -0.8876208 ],\n       [-2.5493135 ,  2.3202372 ],\n       [ 1.0073977 , -0.81787634],\n       [-0.79542565,  0.7664305 ]], dtype=float32), label_ids=array([0, 0, 1, 1, 0, 0, 0, 1, 1, 1, 1, 1, 1, 1, 0, 0, 1, 1, 0, 0]), metrics={'test_loss': 1.363548994064331, 'test_accuracy': 0.5, 'test_precision': 0.5050505050504999, 'test_recall': 0.5050505050504999, 'test_f1': 0.5050505050504499, 'test_runtime': 1.1302, 'test_samples_per_second': 17.695, 'test_steps_per_second': 17.695})"
     },
     "execution_count": 8,
     "metadata": {},
     "output_type": "execute_result"
    }
   ],
   "source": [
    "preds = trainer.predict(dataset['test'].select(range(20)))\n",
    "preds"
   ],
   "metadata": {
    "collapsed": false,
    "ExecuteTime": {
     "end_time": "2023-11-25T22:53:17.897110Z",
     "start_time": "2023-11-25T22:53:16.759241Z"
    }
   }
  },
  {
   "cell_type": "code",
   "execution_count": null,
   "outputs": [],
   "source": [
    "preds"
   ],
   "metadata": {
    "collapsed": false
   }
  },
  {
   "cell_type": "code",
   "execution_count": null,
   "outputs": [],
   "source": [],
   "metadata": {
    "collapsed": false
   }
  }
 ],
 "metadata": {
  "kernelspec": {
   "display_name": "Python 3",
   "language": "python",
   "name": "python3"
  },
  "language_info": {
   "codemirror_mode": {
    "name": "ipython",
    "version": 2
   },
   "file_extension": ".py",
   "mimetype": "text/x-python",
   "name": "python",
   "nbconvert_exporter": "python",
   "pygments_lexer": "ipython2",
   "version": "2.7.6"
  }
 },
 "nbformat": 4,
 "nbformat_minor": 0
}

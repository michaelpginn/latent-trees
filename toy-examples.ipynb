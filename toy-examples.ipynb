{
 "cells": [
  {
   "cell_type": "code",
   "execution_count": 28,
   "metadata": {
    "collapsed": true,
    "ExecuteTime": {
     "end_time": "2023-10-30T05:01:32.312050Z",
     "start_time": "2023-10-30T05:01:27.977622Z"
    }
   },
   "outputs": [
    {
     "data": {
      "text/plain": "Downloading readme:   0%|          | 0.00/583 [00:00<?, ?B/s]",
      "application/vnd.jupyter.widget-view+json": {
       "version_major": 2,
       "version_minor": 0,
       "model_id": "35b5a3fb45644d44a9ee4513401965ac"
      }
     },
     "metadata": {},
     "output_type": "display_data"
    },
    {
     "data": {
      "text/plain": "Downloading data files:   0%|          | 0/2 [00:00<?, ?it/s]",
      "application/vnd.jupyter.widget-view+json": {
       "version_major": 2,
       "version_minor": 0,
       "model_id": "36a0ac2db0d643e6ab9d9f3fd713f355"
      }
     },
     "metadata": {},
     "output_type": "display_data"
    },
    {
     "data": {
      "text/plain": "Downloading data:   0%|          | 0.00/36.2k [00:00<?, ?B/s]",
      "application/vnd.jupyter.widget-view+json": {
       "version_major": 2,
       "version_minor": 0,
       "model_id": "fcef5c5437124a95bae259980acb8780"
      }
     },
     "metadata": {},
     "output_type": "display_data"
    },
    {
     "data": {
      "text/plain": "Downloading data:   0%|          | 0.00/16.5k [00:00<?, ?B/s]",
      "application/vnd.jupyter.widget-view+json": {
       "version_major": 2,
       "version_minor": 0,
       "model_id": "e2dbee6762da431cabbcf7ec5332e5a8"
      }
     },
     "metadata": {},
     "output_type": "display_data"
    },
    {
     "data": {
      "text/plain": "Extracting data files:   0%|          | 0/2 [00:00<?, ?it/s]",
      "application/vnd.jupyter.widget-view+json": {
       "version_major": 2,
       "version_minor": 0,
       "model_id": "47441a69ccd2415c86153fc6409d0fa9"
      }
     },
     "metadata": {},
     "output_type": "display_data"
    },
    {
     "data": {
      "text/plain": "Generating train split:   0%|          | 0/2800 [00:00<?, ? examples/s]",
      "application/vnd.jupyter.widget-view+json": {
       "version_major": 2,
       "version_minor": 0,
       "model_id": "22c9be7485674c5fb7560af5fe9f617a"
      }
     },
     "metadata": {},
     "output_type": "display_data"
    },
    {
     "data": {
      "text/plain": "Generating test split:   0%|          | 0/1200 [00:00<?, ? examples/s]",
      "application/vnd.jupyter.widget-view+json": {
       "version_major": 2,
       "version_minor": 0,
       "model_id": "be8e2acc225c4b48ac434eb2f7b83161"
      }
     },
     "metadata": {},
     "output_type": "display_data"
    },
    {
     "data": {
      "text/plain": "Map:   0%|          | 0/2800 [00:00<?, ? examples/s]",
      "application/vnd.jupyter.widget-view+json": {
       "version_major": 2,
       "version_minor": 0,
       "model_id": "65273a13b352443fa9d83fec7957a131"
      }
     },
     "metadata": {},
     "output_type": "display_data"
    },
    {
     "data": {
      "text/plain": "Map:   0%|          | 0/1200 [00:00<?, ? examples/s]",
      "application/vnd.jupyter.widget-view+json": {
       "version_major": 2,
       "version_minor": 0,
       "model_id": "8b50ce72fa0e4167b724e14d94ea94b3"
      }
     },
     "metadata": {},
     "output_type": "display_data"
    },
    {
     "name": "stdout",
     "output_type": "stream",
     "text": [
      "DatasetDict({\n",
      "    train: Dataset({\n",
      "        features: ['text', 'labels', 'input_ids', 'attention_mask'],\n",
      "        num_rows: 2800\n",
      "    })\n",
      "    test: Dataset({\n",
      "        features: ['text', 'labels', 'input_ids', 'attention_mask'],\n",
      "        num_rows: 1200\n",
      "    })\n",
      "})\n",
      "BertConfig {\n",
      "  \"attention_probs_dropout_prob\": 0.1,\n",
      "  \"classifier_dropout\": null,\n",
      "  \"hidden_act\": \"gelu\",\n",
      "  \"hidden_dropout_prob\": 0.1,\n",
      "  \"hidden_size\": 768,\n",
      "  \"initializer_range\": 0.02,\n",
      "  \"intermediate_size\": 3072,\n",
      "  \"layer_norm_eps\": 1e-12,\n",
      "  \"max_position_embeddings\": 50,\n",
      "  \"model_type\": \"bert\",\n",
      "  \"num_attention_heads\": 12,\n",
      "  \"num_hidden_layers\": 12,\n",
      "  \"pad_token_id\": 0,\n",
      "  \"position_embedding_type\": \"absolute\",\n",
      "  \"transformers_version\": \"4.21.3\",\n",
      "  \"type_vocab_size\": 2,\n",
      "  \"use_cache\": true,\n",
      "  \"vocab_size\": 80\n",
      "}\n",
      "\n"
     ]
    }
   ],
   "source": [
    "from src.WhitespaceTokenizer import WhitespaceTokenizer\n",
    "import datasets\n",
    "from transformers import BertConfig, BertForSequenceClassification\n",
    "\n",
    "dataset = datasets.load_dataset(\"michaelginn/latent-trees-agreement\")\n",
    "tokenizer = WhitespaceTokenizer(max_length=50)\n",
    "tokenizer.learn_vocab([row['text'] for row in dataset['train']])\n",
    "dataset = dataset.map(tokenizer.tokenize_batch, batched=True, load_from_cache_file=False)\n",
    "print(dataset)\n",
    "\n",
    "config = BertConfig(vocab_size=tokenizer.vocab_size, num_labels=2, max_position_embeddings=tokenizer.model_max_length)\n",
    "print(config)\n",
    "model = BertForSequenceClassification(config=config).to('mps')"
   ]
  },
  {
   "cell_type": "code",
   "execution_count": 35,
   "outputs": [
    {
     "name": "stderr",
     "output_type": "stream",
     "text": [
      "PyTorch: setting up devices\n",
      "The following columns in the training set don't have a corresponding argument in `BertForSequenceClassification.forward` and have been ignored: text. If text are not expected by `BertForSequenceClassification.forward`,  you can safely ignore this message.\n",
      "/Users/milesper/miniforge3/lib/python3.10/site-packages/transformers/optimization.py:306: FutureWarning: This implementation of AdamW is deprecated and will be removed in a future version. Use the PyTorch implementation torch.optim.AdamW instead, or set `no_deprecation_warning=True` to disable this warning\n",
      "  warnings.warn(\n",
      "***** Running training *****\n",
      "  Num examples = 2\n",
      "  Num Epochs = 10\n",
      "  Instantaneous batch size per device = 1\n",
      "  Total train batch size (w. parallel, distributed & accumulation) = 1\n",
      "  Gradient Accumulation steps = 1\n",
      "  Total optimization steps = 20\n",
      "Automatic Weights & Biases logging enabled, to disable set os.environ[\"WANDB_DISABLED\"] = \"true\"\n"
     ]
    },
    {
     "data": {
      "text/plain": "<IPython.core.display.HTML object>",
      "text/html": "\n    <div>\n      \n      <progress value='2' max='20' style='width:300px; height:20px; vertical-align: middle;'></progress>\n      [ 2/20 : < :, Epoch 0.50/10]\n    </div>\n    <table border=\"1\" class=\"dataframe\">\n  <thead>\n <tr style=\"text-align: left;\">\n      <th>Epoch</th>\n      <th>Training Loss</th>\n      <th>Validation Loss</th>\n    </tr>\n  </thead>\n  <tbody>\n  </tbody>\n</table><p>"
     },
     "metadata": {},
     "output_type": "display_data"
    },
    {
     "name": "stderr",
     "output_type": "stream",
     "text": [
      "The following columns in the evaluation set don't have a corresponding argument in `BertForSequenceClassification.forward` and have been ignored: text. If text are not expected by `BertForSequenceClassification.forward`,  you can safely ignore this message.\n",
      "***** Running Evaluation *****\n",
      "  Num examples = 2\n",
      "  Batch size = 1\n",
      "Saving model checkpoint to ../training-checkpoints/checkpoint-2\n",
      "Configuration saved in ../training-checkpoints/checkpoint-2/config.json\n",
      "Model weights saved in ../training-checkpoints/checkpoint-2/pytorch_model.bin\n",
      "Deleting older checkpoint [../training-checkpoints/checkpoint-16] due to args.save_total_limit\n",
      "The following columns in the evaluation set don't have a corresponding argument in `BertForSequenceClassification.forward` and have been ignored: text. If text are not expected by `BertForSequenceClassification.forward`,  you can safely ignore this message.\n",
      "***** Running Evaluation *****\n",
      "  Num examples = 2\n",
      "  Batch size = 1\n",
      "Saving model checkpoint to ../training-checkpoints/checkpoint-4\n",
      "Configuration saved in ../training-checkpoints/checkpoint-4/config.json\n",
      "Model weights saved in ../training-checkpoints/checkpoint-4/pytorch_model.bin\n",
      "Deleting older checkpoint [../training-checkpoints/checkpoint-18] due to args.save_total_limit\n",
      "The following columns in the evaluation set don't have a corresponding argument in `BertForSequenceClassification.forward` and have been ignored: text. If text are not expected by `BertForSequenceClassification.forward`,  you can safely ignore this message.\n",
      "***** Running Evaluation *****\n",
      "  Num examples = 2\n",
      "  Batch size = 1\n",
      "Saving model checkpoint to ../training-checkpoints/checkpoint-6\n",
      "Configuration saved in ../training-checkpoints/checkpoint-6/config.json\n",
      "Model weights saved in ../training-checkpoints/checkpoint-6/pytorch_model.bin\n",
      "Deleting older checkpoint [../training-checkpoints/checkpoint-20] due to args.save_total_limit\n",
      "The following columns in the evaluation set don't have a corresponding argument in `BertForSequenceClassification.forward` and have been ignored: text. If text are not expected by `BertForSequenceClassification.forward`,  you can safely ignore this message.\n",
      "***** Running Evaluation *****\n",
      "  Num examples = 2\n",
      "  Batch size = 1\n",
      "Saving model checkpoint to ../training-checkpoints/checkpoint-8\n",
      "Configuration saved in ../training-checkpoints/checkpoint-8/config.json\n",
      "Model weights saved in ../training-checkpoints/checkpoint-8/pytorch_model.bin\n",
      "Deleting older checkpoint [../training-checkpoints/checkpoint-2] due to args.save_total_limit\n",
      "The following columns in the evaluation set don't have a corresponding argument in `BertForSequenceClassification.forward` and have been ignored: text. If text are not expected by `BertForSequenceClassification.forward`,  you can safely ignore this message.\n",
      "***** Running Evaluation *****\n",
      "  Num examples = 2\n",
      "  Batch size = 1\n",
      "Saving model checkpoint to ../training-checkpoints/checkpoint-10\n",
      "Configuration saved in ../training-checkpoints/checkpoint-10/config.json\n",
      "Model weights saved in ../training-checkpoints/checkpoint-10/pytorch_model.bin\n",
      "Deleting older checkpoint [../training-checkpoints/checkpoint-4] due to args.save_total_limit\n",
      "The following columns in the evaluation set don't have a corresponding argument in `BertForSequenceClassification.forward` and have been ignored: text. If text are not expected by `BertForSequenceClassification.forward`,  you can safely ignore this message.\n",
      "***** Running Evaluation *****\n",
      "  Num examples = 2\n",
      "  Batch size = 1\n",
      "Saving model checkpoint to ../training-checkpoints/checkpoint-12\n",
      "Configuration saved in ../training-checkpoints/checkpoint-12/config.json\n",
      "Model weights saved in ../training-checkpoints/checkpoint-12/pytorch_model.bin\n",
      "Deleting older checkpoint [../training-checkpoints/checkpoint-6] due to args.save_total_limit\n",
      "The following columns in the evaluation set don't have a corresponding argument in `BertForSequenceClassification.forward` and have been ignored: text. If text are not expected by `BertForSequenceClassification.forward`,  you can safely ignore this message.\n",
      "***** Running Evaluation *****\n",
      "  Num examples = 2\n",
      "  Batch size = 1\n",
      "Saving model checkpoint to ../training-checkpoints/checkpoint-14\n",
      "Configuration saved in ../training-checkpoints/checkpoint-14/config.json\n",
      "Model weights saved in ../training-checkpoints/checkpoint-14/pytorch_model.bin\n",
      "Deleting older checkpoint [../training-checkpoints/checkpoint-8] due to args.save_total_limit\n",
      "The following columns in the evaluation set don't have a corresponding argument in `BertForSequenceClassification.forward` and have been ignored: text. If text are not expected by `BertForSequenceClassification.forward`,  you can safely ignore this message.\n",
      "***** Running Evaluation *****\n",
      "  Num examples = 2\n",
      "  Batch size = 1\n",
      "Saving model checkpoint to ../training-checkpoints/checkpoint-16\n",
      "Configuration saved in ../training-checkpoints/checkpoint-16/config.json\n",
      "Model weights saved in ../training-checkpoints/checkpoint-16/pytorch_model.bin\n",
      "Deleting older checkpoint [../training-checkpoints/checkpoint-10] due to args.save_total_limit\n",
      "The following columns in the evaluation set don't have a corresponding argument in `BertForSequenceClassification.forward` and have been ignored: text. If text are not expected by `BertForSequenceClassification.forward`,  you can safely ignore this message.\n",
      "***** Running Evaluation *****\n",
      "  Num examples = 2\n",
      "  Batch size = 1\n",
      "Saving model checkpoint to ../training-checkpoints/checkpoint-18\n",
      "Configuration saved in ../training-checkpoints/checkpoint-18/config.json\n",
      "Model weights saved in ../training-checkpoints/checkpoint-18/pytorch_model.bin\n",
      "Deleting older checkpoint [../training-checkpoints/checkpoint-12] due to args.save_total_limit\n",
      "The following columns in the evaluation set don't have a corresponding argument in `BertForSequenceClassification.forward` and have been ignored: text. If text are not expected by `BertForSequenceClassification.forward`,  you can safely ignore this message.\n",
      "***** Running Evaluation *****\n",
      "  Num examples = 2\n",
      "  Batch size = 1\n",
      "Saving model checkpoint to ../training-checkpoints/checkpoint-20\n",
      "Configuration saved in ../training-checkpoints/checkpoint-20/config.json\n",
      "Model weights saved in ../training-checkpoints/checkpoint-20/pytorch_model.bin\n",
      "Deleting older checkpoint [../training-checkpoints/checkpoint-14] due to args.save_total_limit\n",
      "\n",
      "\n",
      "Training completed. Do not forget to share your model on huggingface.co/models =)\n",
      "\n",
      "\n"
     ]
    },
    {
     "data": {
      "text/plain": "TrainOutput(global_step=20, training_loss=0.00016453956204713903, metrics={'train_runtime': 20.6267, 'train_samples_per_second': 0.97, 'train_steps_per_second': 0.97, 'total_flos': 513888780000.0, 'train_loss': 0.00016453956204713903, 'epoch': 10.0})"
     },
     "execution_count": 35,
     "metadata": {},
     "output_type": "execute_result"
    }
   ],
   "source": [
    "from transformers import Trainer, TrainingArguments\n",
    "from src.eval import eval_preds\n",
    "import numpy as np\n",
    "\n",
    "batch_size = 1\n",
    "train_epochs = 10\n",
    "\n",
    "device='mps'\n",
    "\n",
    "# toy_data = [dataset['train'][0], dataset['train'][26]]\n",
    "\n",
    "toy_data = dataset['train'].select([0, 1])\n",
    "\n",
    "def compute_metrics(eval_pred):\n",
    "    labels = eval_pred.label_ids\n",
    "    preds = np.argmax(eval_pred.predictions, axis=-1)\n",
    "    return eval_preds(preds, labels)\n",
    "\n",
    "args = TrainingArguments(\n",
    "    output_dir=f\"../training-checkpoints\",\n",
    "    evaluation_strategy=\"epoch\",\n",
    "    per_device_train_batch_size=batch_size,\n",
    "    per_device_eval_batch_size=batch_size,\n",
    "    gradient_accumulation_steps=1,\n",
    "    save_strategy=\"epoch\",\n",
    "    save_total_limit=3,\n",
    "    num_train_epochs=train_epochs,\n",
    "    load_best_model_at_end=False,\n",
    "    logging_strategy='steps',\n",
    "    logging_steps=1,\n",
    "    report_to='wandb'\n",
    ")\n",
    "\n",
    "trainer = Trainer(\n",
    "    model,\n",
    "    args,\n",
    "    train_dataset=toy_data,\n",
    "    eval_dataset=toy_data,\n",
    "    compute_metrics=compute_metrics\n",
    ")\n",
    "\n",
    "trainer.train()\n"
   ],
   "metadata": {
    "collapsed": false,
    "ExecuteTime": {
     "end_time": "2023-10-30T05:06:28.779930Z",
     "start_time": "2023-10-30T05:06:08.113447Z"
    }
   }
  },
  {
   "cell_type": "code",
   "execution_count": 36,
   "outputs": [
    {
     "name": "stderr",
     "output_type": "stream",
     "text": [
      "The following columns in the test set don't have a corresponding argument in `BertForSequenceClassification.forward` and have been ignored: text. If text are not expected by `BertForSequenceClassification.forward`,  you can safely ignore this message.\n",
      "***** Running Prediction *****\n",
      "  Num examples = 2\n",
      "  Batch size = 1\n"
     ]
    },
    {
     "data": {
      "text/plain": "<IPython.core.display.HTML object>",
      "text/html": "\n    <div>\n      \n      <progress value='1' max='2' style='width:300px; height:20px; vertical-align: middle;'></progress>\n      [1/2 : < :]\n    </div>\n    "
     },
     "metadata": {},
     "output_type": "display_data"
    },
    {
     "data": {
      "text/plain": "PredictionOutput(predictions=array([[ 5.2712135, -5.3930755],\n       [-5.2554264,  5.377078 ]], dtype=float32), label_ids=array([0, 1]), metrics={'test_loss': 2.3722368496237323e-05, 'test_accuracy': 1.0, 'test_precision': 0.9999999999999001, 'test_recall': 0.9999999999999001, 'test_f1': 0.9999999999998501, 'test_runtime': 0.1103, 'test_samples_per_second': 18.138, 'test_steps_per_second': 18.138})"
     },
     "execution_count": 36,
     "metadata": {},
     "output_type": "execute_result"
    }
   ],
   "source": [
    "trainer.predict(toy_data)"
   ],
   "metadata": {
    "collapsed": false,
    "ExecuteTime": {
     "end_time": "2023-10-30T05:06:40.801678Z",
     "start_time": "2023-10-30T05:06:40.684936Z"
    }
   }
  },
  {
   "cell_type": "code",
   "execution_count": 22,
   "outputs": [
    {
     "name": "stdout",
     "output_type": "stream",
     "text": [
      "{'text': 'I walks', 'label': 0, 'input_ids': [1, 57, 37, 2, 0, 0, 0, 0, 0, 0, 0, 0, 0, 0, 0, 0, 0, 0, 0, 0, 0, 0, 0, 0, 0, 0, 0, 0, 0, 0, 0, 0, 0, 0, 0, 0, 0, 0, 0, 0, 0, 0, 0, 0, 0, 0, 0, 0, 0, 0], 'attention_mask': [1, 1, 1, 1, 0, 0, 0, 0, 0, 0, 0, 0, 0, 0, 0, 0, 0, 0, 0, 0, 0, 0, 0, 0, 0, 0, 0, 0, 0, 0, 0, 0, 0, 0, 0, 0, 0, 0, 0, 0, 0, 0, 0, 0, 0, 0, 0, 0, 0, 0]}\n"
     ]
    }
   ],
   "source": [
    "print(toy_data[1])"
   ],
   "metadata": {
    "collapsed": false,
    "ExecuteTime": {
     "end_time": "2023-10-30T04:58:26.710597Z",
     "start_time": "2023-10-30T04:58:26.707612Z"
    }
   }
  },
  {
   "cell_type": "code",
   "execution_count": 32,
   "outputs": [
    {
     "name": "stdout",
     "output_type": "stream",
     "text": [
      "{'text': 'a mad dog that ponders fights a dude', 'labels': 1, 'input_ids': [1, 7, 20, 12, 5, 21, 22, 7, 23, 2, 0, 0, 0, 0, 0, 0, 0, 0, 0, 0, 0, 0, 0, 0, 0, 0, 0, 0, 0, 0, 0, 0, 0, 0, 0, 0, 0, 0, 0, 0, 0, 0, 0, 0, 0, 0, 0, 0, 0, 0], 'attention_mask': [1, 1, 1, 1, 1, 1, 1, 1, 1, 1, 0, 0, 0, 0, 0, 0, 0, 0, 0, 0, 0, 0, 0, 0, 0, 0, 0, 0, 0, 0, 0, 0, 0, 0, 0, 0, 0, 0, 0, 0, 0, 0, 0, 0, 0, 0, 0, 0, 0, 0]}\n"
     ]
    }
   ],
   "source": [
    "print(dataset['train'][1])"
   ],
   "metadata": {
    "collapsed": false,
    "ExecuteTime": {
     "end_time": "2023-10-30T05:02:09.624622Z",
     "start_time": "2023-10-30T05:02:09.619455Z"
    }
   }
  },
  {
   "cell_type": "code",
   "execution_count": null,
   "outputs": [],
   "source": [],
   "metadata": {
    "collapsed": false
   }
  }
 ],
 "metadata": {
  "kernelspec": {
   "display_name": "Python 3",
   "language": "python",
   "name": "python3"
  },
  "language_info": {
   "codemirror_mode": {
    "name": "ipython",
    "version": 2
   },
   "file_extension": ".py",
   "mimetype": "text/x-python",
   "name": "python",
   "nbconvert_exporter": "python",
   "pygments_lexer": "ipython2",
   "version": "2.7.6"
  }
 },
 "nbformat": 4,
 "nbformat_minor": 0
}
